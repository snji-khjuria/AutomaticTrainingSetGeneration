{
 "cells": [
  {
   "cell_type": "code",
   "execution_count": null,
   "metadata": {
    "collapsed": true
   },
   "outputs": [],
   "source": [
    "#Hearst patterns implementation for Hyponyms"
   ]
  },
  {
   "cell_type": "code",
   "execution_count": 44,
   "metadata": {},
   "outputs": [
    {
     "data": {
      "text/plain": [
       "[('The bow lute,', 'the Bambara ndang'),\n",
       " ('The bow lute,',\n",
       "  ' is plucked and has an individual curved neck for each string')]"
      ]
     },
     "execution_count": 44,
     "metadata": {},
     "output_type": "execute_result"
    }
   ],
   "source": [
    "#Hearst patterns for NP0 such as {NP1, NP2, NP3, ... (and| or)} NPn for each sentence.\n",
    "#returns Hyponyms(Hypernym, hyponyms) and preprocessing is required on both elements of tuple\n",
    "sentence= \"The bow lute, such as the Bambara ndang, is plucked and has an individual curved neck for each string\"\n",
    "\n",
    "def getSuchAsKeyValues(valueStr):\n",
    "    valueList = valueStr.split(\",\")\n",
    "    totalValues = len(valueList)\n",
    "    if totalValues==1:\n",
    "        return valueList\n",
    "    lastValue = valueList[totalValues-1]\n",
    "    if lastValue.startswith(\"and\"):\n",
    "        lastValue = lastValue[3:]\n",
    "    elif lastValue.startswith(\"or\"):\n",
    "        lastValue = lastValue[2:]\n",
    "    valueList[totalValues-1] = lastValue\n",
    "    return valueList\n",
    "\n",
    "def getSuchAsHyponym(sentence):\n",
    "    lowerS = sentence.lower()\n",
    "    suchAsStart = lowerS.find(\" such as \")\n",
    "    suchAsEnd = suchAsStart + 9 #9 is length of such as\n",
    "    if suchAsStart == -1:\n",
    "        return None\n",
    "    beforeSuchAs = sentence[0:suchAsStart]\n",
    "    afterSuchAs  = sentence[suchAsEnd:]\n",
    "    key = beforeSuchAs\n",
    "    values  = getSuchAsKeyValues(afterSuchAs)\n",
    "    hyponyms = []\n",
    "    for value in values:\n",
    "        if len(value)<=0:\n",
    "            continue\n",
    "        hyponyms.append((key, value))\n",
    "    return hyponyms\n",
    "\n",
    "getSuchAsHyponym(sentence)"
   ]
  },
  {
   "cell_type": "code",
   "execution_count": 43,
   "metadata": {},
   "outputs": [
    {
     "data": {
      "text/plain": [
       "[('injuries', 'Bruises wounds'), ('injuries', ' broken bones')]"
      ]
     },
     "execution_count": 43,
     "metadata": {},
     "output_type": "execute_result"
    }
   ],
   "source": [
    "#NP {, NP}* {,} or other NP\n",
    "#input:- Bruises wounds, broken bones or other injuries\n",
    "#output:- [('injuries', 'Bruises wounds'), ('injuries', ' broken bones')]\n",
    "sentence = \"Bruises wounds, broken bones or other injuries\"\n",
    "def orOtherHearstPatterns(sentence):\n",
    "    lowerS = sentence.lower()\n",
    "    orOtherStart = lowerS.find(\" or other \")\n",
    "    orOtherEnd   = orOtherStart + 10 #10 is length of string\n",
    "    if orOtherStart == -1:\n",
    "        return None\n",
    "    beforeOrOther = sentence[0:orOtherStart]\n",
    "    afterOrOther  = sentence[orOtherEnd:]\n",
    "    key = afterOrOther\n",
    "    values = beforeOrOther.split(\",\")\n",
    "    hyponyms = []\n",
    "    for value in values:\n",
    "        if len(value)<=0:\n",
    "            continue\n",
    "        hyponyms.append((key, value))\n",
    "    return hyponyms\n",
    "\n",
    "orOtherHearstPatterns(sentence)"
   ]
  },
  {
   "cell_type": "code",
   "execution_count": 45,
   "metadata": {},
   "outputs": [
    {
     "data": {
      "text/plain": [
       "[('important civic buildings.', 'temples'),\n",
       " ('important civic buildings.', ' treasuries')]"
      ]
     },
     "execution_count": 45,
     "metadata": {},
     "output_type": "execute_result"
    }
   ],
   "source": [
    "#NP {, NP}* {,} and other NP\n",
    "#input: temples, treasuries, and other important civic buildings.\n",
    "#outputBeforePreprocessing: [('important civic buildings.', 'temples'), ('important civic buildings.', ' treasuries')]\n",
    "#outputAfterPreprocessing: [hyponym(temple, civic building), hyponym(treasury, civic building)]\n",
    "sentence = \"temples, treasuries, and other important civic buildings.\"\n",
    "def andOtherHearstPatterns(sentence):\n",
    "    lowerS = sentence.lower()\n",
    "    andOtherStart = lowerS.find(\" and other \")\n",
    "    andOtherEnd   = andOtherStart + 11 # 11 is length of \"and other\"\n",
    "    if andOtherStart == -1:\n",
    "        return None\n",
    "    beforeAndOther = sentence[0:andOtherStart]\n",
    "    afterAndOther  = sentence[andOtherEnd:]\n",
    "    key = afterAndOther\n",
    "    values = beforeAndOther.split(\",\")\n",
    "    hyponyms = []\n",
    "    for value in values:\n",
    "        if len(value)<=0:\n",
    "            continue\n",
    "        hyponyms.append((key, value))\n",
    "    return hyponyms\n",
    "andOtherHearstPatterns(sentence)"
   ]
  },
  {
   "cell_type": "code",
   "execution_count": 54,
   "metadata": {},
   "outputs": [
    {
     "data": {
      "text/plain": [
       "[('Canada', 'All common-law countries'),\n",
       " ('England', 'All common-law countries')]"
      ]
     },
     "execution_count": 54,
     "metadata": {},
     "output_type": "execute_result"
    }
   ],
   "source": [
    "#including hearst pattern\n",
    "#input: NP {,} including {NP, }* {or|and} NP\n",
    "#outputBeforePreprocessing: [('Canada', 'All common-law countries'),('England', 'All common-law countries')]\n",
    "#outputAfterPreprocessing: [('Canada', 'common-law countries'),('England', 'common-law countries')]\n",
    "sentence = \"All common-law countries, including Canada and England\"\n",
    "\n",
    "#modify and or value\n",
    "def modifyAndOrValue(s):\n",
    "    andLoc = s.lower().find(\" and \")\n",
    "    orLoc  = s.lower().find(\" or \")\n",
    "    startLoc = endLoc = -1\n",
    "    if orLoc>=0:\n",
    "        startLoc = orLoc\n",
    "        endLoc   = startLoc + 4 # 4 is length of \" or \"\n",
    "    elif andLoc>=0:\n",
    "        startLoc = andLoc\n",
    "        endLoc   = startLoc + 5 # 5 is length of \" and \"\n",
    "    else:\n",
    "        return [s]\n",
    "    s1 = s[:startLoc]\n",
    "    s2 = s[endLoc:]\n",
    "    return [s1, s2]\n",
    "\n",
    "def includingHearstPattern(sentence):\n",
    "    lowerS = sentence.lower()\n",
    "    includingStart = lowerS.find(\" including \")\n",
    "    includingEnd   = includingStart + 11\n",
    "    if includingStart == -1:\n",
    "        return None\n",
    "    beforeIncluding = sentence[0:includingStart]\n",
    "    afterIncluding  = sentence[includingEnd:]\n",
    "    values1 = beforeIncluding.split(\",\")\n",
    "    values2 = afterIncluding.split(\",\")\n",
    "    andOrValue = values2[len(values2)-1]\n",
    "    #remove last element in values2\n",
    "    values2 = values2[:len(values2)-1]\n",
    "    values2.extend(modifyAndOrValue(andOrValue))\n",
    "    hyponyms = []\n",
    "    for key in values2:\n",
    "        if len(key.strip())<=0:\n",
    "            continue\n",
    "        for value in values1:\n",
    "            if len(value.strip())<=0:\n",
    "                continue\n",
    "            hyponyms.append((key, value))\n",
    "    return hyponyms\n",
    "\n",
    "includingHearstPattern(sentence)"
   ]
  },
  {
   "cell_type": "code",
   "execution_count": 57,
   "metadata": {},
   "outputs": [
    {
     "data": {
      "text/plain": [
       "[('most European countries,', 'France'),\n",
       " ('most European countries,', ' England'),\n",
       " ('most European countries,', 'Spain')]"
      ]
     },
     "execution_count": 57,
     "metadata": {},
     "output_type": "execute_result"
    }
   ],
   "source": [
    "#especially Hearst Pattern\n",
    "#Input: NP{,} especially {NP, }* {or|and} NP\n",
    "#Output [('most European countries,', 'France'), ('most European countries,', ' England'),('most European countries,', 'Spain')]\n",
    "#output after processing [[(European country', 'France'),('European country', ' England'), ('European country', 'Spain')]]\n",
    "sentence = \"most European countries, especially France, England, and Spain\"\n",
    "def especiallyHearstPattern(sentence):\n",
    "    lowerS = sentence.lower()\n",
    "    especiallyStart = lowerS.find(\" especially \")\n",
    "    especiallyEnd   = especiallyStart + 12 # 12 is length of especially\n",
    "    if especiallyStart==-1:\n",
    "        return None\n",
    "    beforeEspecially = sentence[0:especiallyStart]\n",
    "    afterEspecially = sentence[especiallyEnd:]\n",
    "    key = beforeEspecially\n",
    "    values = afterEspecially.split(\",\")\n",
    "    lastValue = values[len(values)-1]\n",
    "    #remove last value\n",
    "    values = values[:len(values)-1]\n",
    "    values.extend(modifyAndOrValue(lastValue))\n",
    "    hyponyms = []\n",
    "    for value in values:\n",
    "        if len(value)<=0:\n",
    "            continue\n",
    "        hyponyms.append((key, value))\n",
    "    return hyponyms\n",
    "\n",
    "especiallyHearstPattern(sentence)"
   ]
  },
  {
   "cell_type": "code",
   "execution_count": 59,
   "metadata": {},
   "outputs": [
    {
     "data": {
      "text/plain": [
       "[('authors', 'Herrick'),\n",
       " ('authors', ' GoldSmith'),\n",
       " ('authors', 'Shakespeare.')]"
      ]
     },
     "execution_count": 59,
     "metadata": {},
     "output_type": "execute_result"
    }
   ],
   "source": [
    "#suchNPas implementation\n",
    "#input such NP as {NP}* {(or|and)} NP\n",
    "#outputBeforePreprocessing: [('authors', 'Herrick'), ('authors', ' GoldSmith'), ('authors', 'Shakespeare.')]\n",
    "#outputAfterProcessing: [('author', 'Herrick'), ('author', ' GoldSmith'), ('author', 'Shakespeare')]\n",
    "sentence = \"works by such authors as Herrick, GoldSmith, and Shakespeare.\"\n",
    "def suchNPasHearstPattern(sentence):\n",
    "    lowerS = sentence.lower()\n",
    "    startSuch = lowerS.find(\" such \")\n",
    "    endSuch   = startSuch + 6\n",
    "    if startSuch==-1:\n",
    "        return None\n",
    "    if lowerS[endSuch:].find(\" as \")==-1:\n",
    "        return None\n",
    "    beforeSuch = sentence[0:startSuch]\n",
    "    afterSuch  = sentence[endSuch:]\n",
    "    lowerS     = afterSuch.lower()\n",
    "    startAs    = lowerS.find(\" as \")\n",
    "    endAs      = startAs + 4\n",
    "    beforeAs = afterSuch[:startAs]\n",
    "    afterAs  = afterSuch[endAs:]\n",
    "    key = beforeAs\n",
    "    values = afterAs.split(\",\")\n",
    "    lastValue = values[len(values)-1]\n",
    "    #delete last value\n",
    "    values = values[:len(values)-1]\n",
    "    values.extend(modifyAndOrValue(lastValue))\n",
    "    hyponyms = []\n",
    "    for value in values:\n",
    "        if len(value)<=0:\n",
    "            continue\n",
    "        hyponyms.append((key, value))\n",
    "    return hyponyms\n",
    "\n",
    "suchNPasHearstPattern(sentence)"
   ]
  }
 ],
 "metadata": {
  "kernelspec": {
   "display_name": "Python 2",
   "language": "python",
   "name": "python2"
  },
  "language_info": {
   "codemirror_mode": {
    "name": "ipython",
    "version": 2
   },
   "file_extension": ".py",
   "mimetype": "text/x-python",
   "name": "python",
   "nbconvert_exporter": "python",
   "pygments_lexer": "ipython2",
   "version": "2.7.12"
  }
 },
 "nbformat": 4,
 "nbformat_minor": 2
}
