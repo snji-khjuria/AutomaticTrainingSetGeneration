{
 "cells": [
  {
   "cell_type": "code",
   "execution_count": null,
   "metadata": {
    "collapsed": true
   },
   "outputs": [],
   "source": [
    "importList = \"import re\\n\""
   ]
  },
  {
   "cell_type": "code",
   "execution_count": 24,
   "metadata": {},
   "outputs": [
    {
     "name": "stdout",
     "output_type": "stream",
     "text": [
      "Give us length constraint (-1 for no constraint):- \n",
      "12\n"
     ]
    }
   ],
   "source": [
    "#generate Length Labeling function generator\n",
    "def lengthLFGenerator(num):\n",
    "    name = \"def LF_length(s):\\n\\t\" \n",
    "    ifCond = \"if len(s)<=\" + str(num) + \":\\n\\t\\t\"\n",
    "    ifResult = \"return 1\\n\\t\"\n",
    "    elseCond = \"else:\\n\\t\\t\"\n",
    "    suffix   = \"return 0\"\n",
    "    return name + ifCond + ifResult + elseCond + suffix\n",
    "\n",
    "def generateLengthConstraint(num):\n",
    "    if num==-1:\n",
    "        return \"\"\n",
    "    else:\n",
    "        return lengthLFGenerator (num)\n",
    "\n",
    "print(\"Give us length constraint (-1 for no constraint):- \")\n",
    "lengthLimit = input()\n",
    "lengthLF = generateLengthConstraint(lengthLimit)\n",
    "# print(\"Function is \\n\" + lengthLF + \"\\n that's it\")\n",
    "\n"
   ]
  },
  {
   "cell_type": "code",
   "execution_count": 50,
   "metadata": {},
   "outputs": [
    {
     "name": "stdout",
     "output_type": "stream",
     "text": [
      "Give us Word constraint (-1 for no constraint):- \n",
      "12\n",
      "def LF_numOfWords(str):\n",
      "\tif len(str.split())<=12:\n",
      "\t\treturn 1\n",
      "\telse:\n",
      "\t\treturn 0\n"
     ]
    }
   ],
   "source": [
    "#generate words count function generator\n",
    "def wordCountLFGenerator(num):\n",
    "    name = \"def LF_numOfWords(s):\\n\\t\"\n",
    "    ifCond = \"if len(s.split())<=\"+str(num)+\":\\n\\t\\t\"\n",
    "    ifResult = \"return 1\\n\\t\"\n",
    "    elseCond = \"else:\\n\\t\\t\"\n",
    "    elseResult = \"return 0\"\n",
    "    return name + ifCond + ifResult + elseCond  + elseResult\n",
    "\n",
    "def generateWordCountConstraint(num):\n",
    "    if num<0:\n",
    "        return \"\"\n",
    "    else:\n",
    "        return wordCountLFGenerator(num)\n",
    "    \n",
    "print(\"Give us Word constraint (-1 for no constraint):- \")\n",
    "wordsLimit = input()\n",
    "wordsLF = generateWordCountConstraint(wordsLimit)\n",
    "print(wordsLF)\n"
   ]
  },
  {
   "cell_type": "code",
   "execution_count": 78,
   "metadata": {},
   "outputs": [
    {
     "name": "stdout",
     "output_type": "stream",
     "text": [
      "Give us regular expression constraint(\"()\" for no constraint)\n",
      "\"()\"\n",
      "\n"
     ]
    }
   ],
   "source": [
    "#regular expression generator\n",
    "def regExpLFgenerator(reg):\n",
    "    definitionName = \"def regExpLF(s):\\n\\t\"\n",
    "    ifCond         = \"if re.search(\"+str(reg)+\", s):\\n\\t\\t\"\n",
    "    ifResult       = \"return 1\\n\\t\"\n",
    "    elseCond       = \"else:\\n\\t\\t\"\n",
    "    elseResult     = \"return 0\"\n",
    "    return definitionName + ifCond + ifResult + elseCond + elseResult\n",
    "\n",
    "def generateRegExpWordCountConstraint(reg):\n",
    "    if reg==\"()\":\n",
    "        return \"\"\n",
    "    else:\n",
    "        return regExpLFgenerator(reg)\n",
    "print(\"Give us regular expression constraint(\\\"()\\\" for no constraint)\")\n",
    "reg = input()\n",
    "regExpLF = generateRegExpWordCountConstraint(reg)\n",
    "print(regExpLF)\n",
    "# print(str(reg==\"()\"))\n",
    "    "
   ]
  },
  {
   "cell_type": "code",
   "execution_count": 92,
   "metadata": {},
   "outputs": [
    {
     "name": "stdout",
     "output_type": "stream",
     "text": [
      "Is first word Capital(yes/no):\n",
      "\"no\"\n",
      "\n"
     ]
    }
   ],
   "source": [
    "def isCapitalLFGenerator():\n",
    "    fname      = \"def isCapitalLF(s):\\n\\t\"\n",
    "    ifLogic    = \"if s[0].isUpper():\\n\\t\\t\"\n",
    "    ifResult   = \"return 1\\n\\t\"\n",
    "    elseCond   = \"else:\\n\\t\\t\"\n",
    "    elseResult = \"return 0\"\n",
    "    return fname + ifLogic + ifResult + elseCond + elseResult\n",
    "\n",
    "def generateIsCapitalLF(choice):\n",
    "    if(choice.lower()==\"yes\"):\n",
    "        return isCapitalLFGenerator()\n",
    "    else:\n",
    "        return \"\"\n",
    "    \n",
    "print(\"Is first word Capital(yes/no):\")\n",
    "choice = input()\n",
    "isCapitalLF = generateIsCapitalLF(choice)\n",
    "print(isCapitalLF)"
   ]
  },
  {
   "cell_type": "code",
   "execution_count": 100,
   "metadata": {},
   "outputs": [
    {
     "name": "stdout",
     "output_type": "stream",
     "text": [
      "Do you have any components of Chunk you wanna extract(yes/no)\n",
      "\"yes\"\n",
      "[1,2,3]\n",
      "Components labeling functions are: \n",
      "def isComponent(s):\n",
      "\tl=[1, 2, 3]\n",
      "\tallS=s.split()\n",
      "\tfor st in allS:\n",
      "\t\tif st in l:\n",
      "\t\t\treturn 1\n",
      "\treturn 0\n"
     ]
    }
   ],
   "source": [
    "def checkSomeComponent(l):\n",
    "    fname = \"def isComponent(s):\\n\\t\"\n",
    "    dataDec1 = \"l=\" + str(l) + \"\\n\\t\"\n",
    "    dataDec2 = \"allS=s.split()\\n\\t\"\n",
    "    forLoop  = \"for st in allS:\\n\\t\\t\"\n",
    "    ifCond  = \"if st in l:\\n\\t\\t\\t\"\n",
    "    ifResult = \"return 1\\n\\t\"\n",
    "    directResult = \"return 0\"\n",
    "    return fname + dataDec1 + dataDec2 + forLoop + ifCond + ifResult + directResult\n",
    "\n",
    "def readComponents(choice):\n",
    "    if(choice==\"yes\"):\n",
    "        return input()\n",
    "    else:\n",
    "        return []\n",
    "\n",
    "def generateSomeComponentLF(l):\n",
    "    if not l:\n",
    "        return \"\"\n",
    "    else:\n",
    "        return checkSomeComponent(l)\n",
    "    \n",
    "print(\"Do you have any components of Chunk you wanna extract(yes/no)\")\n",
    "choice = input()\n",
    "l = readComponents(choice)\n",
    "componentsLF = generateSomeComponentLF(l)\n",
    "print(\"Components labeling functions are: \\n\" + componentsLF)"
   ]
  },
  {
   "cell_type": "code",
   "execution_count": 105,
   "metadata": {},
   "outputs": [
    {
     "name": "stdout",
     "output_type": "stream",
     "text": [
      "Do you have some seeds:(yes/no)\n",
      "\"yes\"\n",
      "[1,2,3]\n",
      "def isSeed_LF(s):\n",
      "\td = [1, 2, 3]\n",
      "\tif s in d:\n",
      "\t\treturn 1\n",
      "\telse:\n",
      "\t\treturn 0\n"
     ]
    }
   ],
   "source": [
    "def checkIsSeedGenerator(seedList):\n",
    "    definitionName = \"def isSeed_LF(s):\\n\\t\"\n",
    "    dataDec        = \"d = \" + str(seedList) + \"\\n\\t\"\n",
    "    ifCond         = \"if s in d:\\n\\t\\t\"\n",
    "    ifResult       = \"return 1\\n\\t\"\n",
    "    elseCond       = \"else:\\n\\t\\t\"\n",
    "    elseResult     = \"return 0\"\n",
    "    return definitionName + dataDec + ifCond + ifResult + elseCond + elseResult\n",
    "    \n",
    "def generateIsSeedLF(l):\n",
    "    if not l:\n",
    "        return \"\"\n",
    "    else:\n",
    "        return checkIsSeedGenerator(l)\n",
    "    \n",
    "print(\"Do you have some seeds:(yes/no)\")\n",
    "choice = input()\n",
    "l = readComponents(choice)\n",
    "seedsLF = generateIsSeedLF(l)\n",
    "print(seedsLF)"
   ]
  },
  {
   "cell_type": "code",
   "execution_count": 107,
   "metadata": {},
   "outputs": [
    {
     "name": "stdout",
     "output_type": "stream",
     "text": [
      "Do you have any unallowed characters(yes/no)\n",
      "\"yes\"\n",
      "[1,2,3]\n",
      "def unallowedLF(s):\n",
      "\td = [1, 2, 3]\n",
      "\tfor i in range(0, len(s)):\n",
      "\t\tif s[i] in d:\n",
      "\t\t\treturn 1\n",
      "\treturn 0\n"
     ]
    }
   ],
   "source": [
    "def unallowedCharLFGenerator(l):\n",
    "    definitionName = \"def unallowedLF(s):\\n\\t\"\n",
    "    dataDec        = \"d = \" + str(l) + \"\\n\\t\"\n",
    "    loop           = \"for i in range(0, len(s)):\\n\\t\\t\"\n",
    "    ifCond         = \"if s[i] in d:\\n\\t\\t\\t\"\n",
    "    ifResult       = \"return -1\\n\\t\"\n",
    "    suffix         = \"return 0\"\n",
    "    return definitionName + dataDec + loop + ifCond + ifResult + suffix\n",
    "\n",
    "def generateUnallowedLF(l):\n",
    "    if not l:\n",
    "        return \"\"\n",
    "    else:\n",
    "        return unallowedCharLFGenerator(l)\n",
    "print \"Do you have any unallowed characters(yes/no)\"\n",
    "choice = input()\n",
    "l = readComponents(choice)\n",
    "unallowedLF = generateUnallowedLF(l)\n",
    "print(unallowedLF)"
   ]
  },
  {
   "cell_type": "code",
   "execution_count": 137,
   "metadata": {},
   "outputs": [
    {
     "name": "stdout",
     "output_type": "stream",
     "text": [
      "Do you have any file to interpret some statistical properties: (yes/no)\n",
      "\"yes\"\n",
      "\"/home/sanjeevk/3rdSem/ackman.hs\"\n",
      "Total number of elements: 10\n",
      "Enter value of k: \n",
      "11\n",
      "['ack', 'm', 'n', '=', '1', '0', '(m-1)', '+', '(ack', '(n-1))']\n",
      "Do you want to tag them true and false(yes/no)\n",
      "\"yes\"\n",
      "Give 1 input to include\n",
      "DO you want to include ack\n",
      "1\n",
      "DO you want to include m\n",
      "1\n",
      "DO you want to include n\n",
      "0\n",
      "DO you want to include =\n",
      "0\n",
      "DO you want to include 1\n",
      "1\n",
      "DO you want to include 0\n",
      "1\n",
      "DO you want to include (m-1)\n",
      "1\n",
      "DO you want to include +\n",
      "0\n",
      "DO you want to include (ack\n",
      "1\n",
      "DO you want to include (n-1))\n",
      "0\n",
      "Tagged ones are\n",
      "['ack', 'm', '1', '0', '(m-1)', '(ack']\n"
     ]
    }
   ],
   "source": [
    "import operator\n",
    "def processChoice(choice):\n",
    "    if (choice==\"yes\"):\n",
    "        return input()\n",
    "    else:\n",
    "        return None\n",
    "\n",
    "def getTopKFromFile(fileLoc):\n",
    "    allAns = {}\n",
    "    with open(fileLoc) as f:\n",
    "        for line in f:\n",
    "            tokens = line.strip().split()\n",
    "            for key in tokens:\n",
    "                if key in allAns:\n",
    "                    allAns[key]+=1\n",
    "                else:\n",
    "                    allAns[key] = 1\n",
    "    sortedAns = sorted(allAns.items(), key=operator.itemgetter(1), reverse=True)\n",
    "    sortedAns = map(operator.itemgetter(0), sortedAns)                \n",
    "    return sortedAns\n",
    "\n",
    "def generateTopKComponents(fileLoc):\n",
    "    if not fileLoc:\n",
    "        return []\n",
    "    else:\n",
    "        return getTopKFromFile(fileLoc)\n",
    "    \n",
    "def doTagging(topK):\n",
    "    print(\"Give 1 input to include\")\n",
    "    output = []\n",
    "    for token in topK:\n",
    "        print(\"DO you want to include \" + token)\n",
    "        feedback = input()\n",
    "        if(feedback==1):\n",
    "            output.append(token)\n",
    "    return output\n",
    "\n",
    "def processTaggingChoice(choice, topK):\n",
    "    if choice==\"yes\":\n",
    "        return doTagging(topK)\n",
    "    else:\n",
    "        return topK\n",
    "\n",
    "print \"Do you have any file to interpret some statistical properties: (yes/no)\"\n",
    "choice  = input()\n",
    "fileLoc = processChoice(choice)\n",
    "topK    = generateTopKComponents(fileLoc)\n",
    "print \"Total number of elements: \" + str(len(topK))\n",
    "print \"Enter value of k: \"\n",
    "k = input()\n",
    "k = min(k, len(topK))\n",
    "topK = topK[:k]\n",
    "print(topK)\n",
    "# /home/sanjeevk/3rdSem/ackman.hs\n",
    "print(\"Do you want to tag them true and false(yes/no)\")\n",
    "choice = input()\n",
    "taggedTopK = processTaggingChoice(choice, topK)\n",
    "print(\"Tagged ones are\")\n",
    "print(taggedTopK)\n"
   ]
  },
  {
   "cell_type": "code",
   "execution_count": 138,
   "metadata": {},
   "outputs": [
    {
     "name": "stdout",
     "output_type": "stream",
     "text": [
      "do you have some suffix properties(yes/no)\n",
      "\"yes\"\n",
      "[\"ies\", \"loc\"]\n",
      "SuffixLF definition:\n",
      "def isSuffix_LF(s):\n",
      "\tl = ['ies', 'loc']\n",
      "\tfor i in l:\n",
      "\t\tif s.endsWith(i):\n",
      "\t\t\treturn 1\n",
      "\treturn 0\n"
     ]
    }
   ],
   "source": [
    "def generateSuffixLF(suffixList):\n",
    "    defName = \"def isSuffix_LF(s):\\n\\t\"\n",
    "    dataDef = \"l = \" + str(suffixList) + \"\\n\\t\"\n",
    "    forLoop = \"for item in l:\\n\\t\\t\"\n",
    "    ifCond  = \"if s.endsWith(item):\\n\\t\\t\\t\"\n",
    "    ifResult = \"return 1\\n\\t\"\n",
    "    suffix   = \"return 0\"\n",
    "    return defName + dataDef + forLoop + ifCond + ifResult + suffix\n",
    "    \n",
    "    \n",
    "def suffixLFGenerator(suffixList):\n",
    "    if not suffixList:\n",
    "        return \"\"\n",
    "    else:\n",
    "        return generateSuffixLF(suffixList)\n",
    "\n",
    "    \n",
    "print(\"do you have some suffix properties(yes/no)\")\n",
    "choice = input()\n",
    "suffixList = processChoice(choice)\n",
    "suffixLF = suffixLFGenerator(suffixList)\n",
    "print(\"SuffixLF definition:\")\n",
    "print(suffixLF)"
   ]
  },
  {
   "cell_type": "code",
   "execution_count": 139,
   "metadata": {},
   "outputs": [
    {
     "name": "stdout",
     "output_type": "stream",
     "text": [
      "do you have some prefix properties(yes/no)\n",
      "\"yes\"\n",
      "[\"1\", \"2\"]\n",
      "prefixLF definition:\n",
      "def isPrefix_LF(s):\n",
      "\tl = ['1', '2']\n",
      "\tfor item in l:\n",
      "\t\tif s.startsWith(item):\n",
      "\t\t\treturn 1\n",
      "\treturn 0\n"
     ]
    }
   ],
   "source": [
    "def generatePrefixLF(prefixList):\n",
    "    defName = \"def isPrefix_LF(s):\\n\\t\"\n",
    "    dataDef = \"l = \" + str(prefixList) + \"\\n\\t\"\n",
    "    forLoop = \"for item in l:\\n\\t\\t\"\n",
    "    ifCond  = \"if s.startsWith(item):\\n\\t\\t\\t\"\n",
    "    ifResult = \"return 1\\n\\t\"\n",
    "    suffix   = \"return 0\"\n",
    "    return defName + dataDef + forLoop + ifCond + ifResult + suffix\n",
    "    \n",
    "    \n",
    "def prefixLFGenerator(prefixList):\n",
    "    if not prefixList:\n",
    "        return \"\"\n",
    "    else:\n",
    "        return generatePrefixLF(prefixList)\n",
    "\n",
    "    \n",
    "print(\"do you have some prefix properties(yes/no)\")\n",
    "choice = input()\n",
    "prefixList = processChoice(choice)\n",
    "prefixLF = prefixLFGenerator(prefixList)\n",
    "print(\"prefixLF definition:\")\n",
    "print(prefixLF)"
   ]
  },
  {
   "cell_type": "code",
   "execution_count": 44,
   "metadata": {},
   "outputs": [
    {
     "name": "stdout",
     "output_type": "stream",
     "text": [
      "okay\n",
      "None\n"
     ]
    }
   ],
   "source": [
    "\n",
    "import re\n",
    "if re.search(\"j\", \"saneev\"):\n",
    "    print(\"hi\")\n",
    "else:\n",
    "    print(\"okay\")\n",
    "print(abc)"
   ]
  },
  {
   "cell_type": "code",
   "execution_count": 1,
   "metadata": {},
   "outputs": [
    {
     "data": {
      "text/plain": [
       "7"
      ]
     },
     "execution_count": 1,
     "metadata": {},
     "output_type": "execute_result"
    }
   ],
   "source": [
    "len (\"sanjeev\")"
   ]
  }
 ],
 "metadata": {
  "kernelspec": {
   "display_name": "Python 2",
   "language": "python",
   "name": "python2"
  },
  "language_info": {
   "codemirror_mode": {
    "name": "ipython",
    "version": 2
   },
   "file_extension": ".py",
   "mimetype": "text/x-python",
   "name": "python",
   "nbconvert_exporter": "python",
   "pygments_lexer": "ipython2",
   "version": "2.7.12"
  }
 },
 "nbformat": 4,
 "nbformat_minor": 2
}
