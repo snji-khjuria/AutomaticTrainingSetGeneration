{
 "cells": [
  {
   "cell_type": "code",
   "execution_count": 6,
   "metadata": {},
   "outputs": [
    {
     "name": "stdout",
     "output_type": "stream",
     "text": [
      "seeds are: \n",
      "('OS', 'Android')\n",
      "('RAM', '2 GB')\n",
      "('Item Weight', '150 g')\n",
      "('Weight', '150 Grams')\n"
     ]
    }
   ],
   "source": [
    "#Relation extraction using SEAL\n",
    "seeds = []\n",
    "seedsLocation = \"data/relationSeeds\"\n",
    "with open(seedsLocation) as f:\n",
    "    seeds = [line.strip() for line in f]\n",
    "    \n",
    "relationSeeds = []\n",
    "for seed in seeds:\n",
    "    tokens = seed.split(\"\\t\")\n",
    "    if len(tokens)<=1:\n",
    "        continue\n",
    "    arg1 = tokens[0].strip()\n",
    "    arg2 = tokens[1].strip()\n",
    "    relationSeeds.append((arg1, arg2))\n",
    "print(\"seeds are: \")\n",
    "for seed in relationSeeds:\n",
    "    print(seed)"
   ]
  },
  {
   "cell_type": "code",
   "execution_count": null,
   "metadata": {
    "collapsed": true
   },
   "outputs": [],
   "source": [
    "def getClosestPairs(l1, l2):\n",
    "    r = set([])\n",
    "    for i1 in l1:\n",
    "        for i2 in l2:\n",
    "            if i2>i1 and i2-i1<100 and not (i1, i2) in r:\n",
    "                r.add((i1, i2))\n",
    "            elif i2<i1 and i1-i2<100 and not (i2, i1) in r:\n",
    "                r.add((i2, i1))\n",
    "    return r"
   ]
  },
  {
   "cell_type": "code",
   "execution_count": 41,
   "metadata": {
    "collapsed": true
   },
   "outputs": [],
   "source": [
    "def doIntersection(l):\n",
    "    if len(l)==1:\n",
    "        return []\n",
    "    s1 = l[0]\n",
    "    s2 = l[1:]\n",
    "    result = []\n",
    "    for s in s2:\n",
    "        r = s1.intersection(s)\n",
    "        result.extend(r)\n",
    "    result.extend(doIntersection(s2))\n",
    "    return list(set(result))\n",
    "    \n",
    "def getStringFromTagEnd(s):\n",
    "#     s = reversed(s)\n",
    "    result = \"\"\n",
    "    for c in reversed(s):\n",
    "        if c ==\">\":\n",
    "            break\n",
    "        result+=str(c)\n",
    "    if len(result)>100:\n",
    "        return \"\"\n",
    "    return result[::-1]\n",
    "\n",
    "\n",
    "def getStringTillTagStart(s):\n",
    "    result = \"\"\n",
    "    for c in s:\n",
    "        if c==\"<\":\n",
    "            break\n",
    "        result+=str(c)\n",
    "    if len(result)>100:\n",
    "        return \"\"\n",
    "    return result"
   ]
  },
  {
   "cell_type": "code",
   "execution_count": 43,
   "metadata": {},
   "outputs": [
    {
     "name": "stdout",
     "output_type": "stream",
     "text": [
      "('OS', 'Android')\n",
      "('RAM', '2 GB')\n",
      "('Item Weight', '150 g')\n",
      "('Weight', '150 Grams')\n",
      "Context is \n",
      "</td><td class=\"value\"\n",
      "Found relations are\n",
      "('OS', 'Android')\n",
      "('RAM', '2 GB')\n",
      "('Item Weight', '150 g')\n",
      "('Product Dimensions', '14.2 x 0.8 x 7.1 cm')\n",
      "('Item model number', 'PA2M0111IN')\n",
      "('Wireless communication technologies', 'Bluetooth, WiFi Hotspot')\n",
      "('Other camera features', '5MP')\n",
      "('Form factor', 'Touchscreen Phone')\n",
      "('Weight', '150 Grams')\n",
      "('Colour', 'Grey')\n",
      "('Battery Power Rating', '2750')\n",
      "('Phone Talk Time', '15.1 Hours')\n",
      "('Phone Standby Time (with data)', '322 Hours')\n",
      "('Whats in the box', 'Handset, Battery, Charger and User Manual')\n",
      "('ASIN', 'B01M07568E')\n",
      "('Best Sellers Rank', '#48 in Electronics (')\n",
      "('Date First Available', '1 January 2017')\n"
     ]
    }
   ],
   "source": [
    "import os\n",
    "import re\n",
    "ecommerceFile = \"data/Lenovo Vibe K5.html\"\n",
    "ecommerceData = \"\"\n",
    "with open(ecommerceFile) as f:\n",
    "    ecommerceData = f.read()\n",
    "ecommerceData = re.sub( '\\s+', ' ', ecommerceData).strip()\n",
    "\n",
    "\n",
    "presentSeeds = []\n",
    "for (arg1, arg2) in relationSeeds:\n",
    "    arg1Location = ecommerceData.find(arg1)\n",
    "    arg2Location = ecommerceData.find(arg2)\n",
    "    if arg1Location == -1 or arg2Location==-1:\n",
    "        continue\n",
    "    else:\n",
    "        presentSeeds.append((arg1, arg2))\n",
    "for seed in presentSeeds:\n",
    "    print(seed)\n",
    "\n",
    "    \n",
    "contexts = []\n",
    "for (arg1, arg2) in relationSeeds:\n",
    "    arg1Contexts = []\n",
    "    for m in re.finditer(arg1, ecommerceData):\n",
    "        start = m.start()\n",
    "        end   = m.end()\n",
    "        arg1Contexts.append(end+1)\n",
    "    arg2Contexts = []\n",
    "    for m in re.finditer(arg2, ecommerceData):\n",
    "        start = m.start()\n",
    "        end   = m.end()\n",
    "        arg2Contexts.append(start-1)\n",
    "    closestPairs = getClosestPairs(arg1Contexts, arg2Contexts)\n",
    "    contextsPerSeed = set([])\n",
    "    for (a, b) in closestPairs:\n",
    "        contextsPerSeed.add(ecommerceData[a:b])\n",
    "    contexts.append(contextsPerSeed)\n",
    "    \n",
    "    \n",
    "    \n",
    "contexts = doIntersection(contexts)\n",
    "for context in contexts:\n",
    "    print(\"Context is \")\n",
    "    print(context)\n",
    "    \n",
    "contextLocs = []\n",
    "foundRelations = []\n",
    "for context in contexts:\n",
    "    for m in re.finditer(context, ecommerceData):\n",
    "        start  = m.start()\n",
    "        end    = m.end()\n",
    "        arg1   = getStringFromTagEnd(ecommerceData[:start]).strip()\n",
    "        arg2   = getStringTillTagStart(ecommerceData[end+1:]).strip()\n",
    "        if len(arg1)>0 and len(arg2)>0:\n",
    "            foundRelations.append((arg1, arg2))\n",
    "            \n",
    "            \n",
    "print(\"Found relations are\")\n",
    "for relation in foundRelations:\n",
    "    print(relation)\n",
    "\n",
    "    \n"
   ]
  },
  {
   "cell_type": "code",
   "execution_count": 40,
   "metadata": {},
   "outputs": [
    {
     "data": {
      "text/plain": [
       "'veejnas'"
      ]
     },
     "execution_count": 40,
     "metadata": {},
     "output_type": "execute_result"
    }
   ],
   "source": [
    "\"sanjeev\"[::-1]"
   ]
  },
  {
   "cell_type": "code",
   "execution_count": 16,
   "metadata": {},
   "outputs": [],
   "source": []
  },
  {
   "cell_type": "code",
   "execution_count": null,
   "metadata": {
    "collapsed": true
   },
   "outputs": [],
   "source": [
    "#for particular set represented as list of strings find common prefix between them\n",
    "def createAllPrefix (s, l):\n",
    "    ansList = []\n",
    "    if len(l)==1:\n",
    "        for ch in l[0]:\n",
    "            s = s+ch \n",
    "            ansList.append(s.strip())\n",
    "        return list(set(ansList))\n",
    "    dictMap = {}\n",
    "    for item in l:\n",
    "        ch = item[0]\n",
    "        if ch in dictMap:\n",
    "            dictMap[ch].append(item[1:])\n",
    "        else:\n",
    "            dictMap[ch] = [item[1:]]\n",
    "    for k, v in dictMap.items():\n",
    "        ansList.append((s+k).strip())\n",
    "        nextAnswer = createAllPrefix(s+k, v)\n",
    "        ansList.extend(nextAnswer)\n",
    "    return list(set(ansList))\n",
    "\n",
    "def createPossibleStrings(l):\n",
    "    return set(createAllPrefix (\"\", l))\n",
    "\n",
    "createAllPrefix(\"\", [\"sanjeev\", \"kumar\"])    "
   ]
  }
 ],
 "metadata": {
  "kernelspec": {
   "display_name": "Python 2",
   "language": "python",
   "name": "python2"
  },
  "language_info": {
   "codemirror_mode": {
    "name": "ipython",
    "version": 2
   },
   "file_extension": ".py",
   "mimetype": "text/x-python",
   "name": "python",
   "nbconvert_exporter": "python",
   "pygments_lexer": "ipython2",
   "version": "2.7.12"
  }
 },
 "nbformat": 4,
 "nbformat_minor": 2
}
